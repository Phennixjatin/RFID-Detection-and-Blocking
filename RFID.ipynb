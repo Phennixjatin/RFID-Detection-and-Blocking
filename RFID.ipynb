{
  "nbformat": 4,
  "nbformat_minor": 0,
  "metadata": {
    "colab": {
      "provenance": []
    },
    "kernelspec": {
      "name": "python3",
      "display_name": "Python 3"
    },
    "language_info": {
      "name": "python"
    }
  },
  "cells": [
    {
      "cell_type": "markdown",
      "source": [
        "Simulated RFID Detection and Blocking\n",
        "In this script:\n",
        "\n",
        "We simulate RFID cards with unique IDs.\n",
        "We simulate an unauthorized scanner trying to read the RFID cards.\n",
        "We implement a simple blocking mechanism to prevent unauthorized scans.\n",
        "Simulated Environment Setup\n",
        "RFID Cards: Represented as a list of dictionaries with card information.\n",
        "Unauthorized Scanner: A function trying to read RFID cards.\n",
        "RFID Blocker: A function that identifies and blocks unauthorized scans.\n",
        "Step 1: Simulating RFID Cards"
      ],
      "metadata": {
        "id": "3YKXHGJpf0yC"
      }
    },
    {
      "cell_type": "markdown",
      "source": [],
      "metadata": {
        "id": "uSX8TGdffyp_"
      }
    },
    {
      "cell_type": "code",
      "source": [
        "# List of simulated RFID cards\n",
        "rfid_cards = [\n",
        "    {\"card_id\": \"1234-5678-9012-3456\", \"holder\": \"Alice\"},\n",
        "    {\"card_id\": \"2345-6789-0123-4567\", \"holder\": \"Bob\"},\n",
        "    {\"card_id\": \"3456-7890-1234-5678\", \"holder\": \"Charlie\"}\n",
        "]"
      ],
      "metadata": {
        "id": "jjCp8aPOf5Ju"
      },
      "execution_count": 1,
      "outputs": []
    },
    {
      "cell_type": "markdown",
      "source": [
        "Step 2: Unauthorized Scanner"
      ],
      "metadata": {
        "id": "YpBS9ILuf_bA"
      }
    },
    {
      "cell_type": "code",
      "source": [
        "def unauthorized_scanner(card_list):\n",
        "    print(\"Unauthorized scanner active.\")\n",
        "    scanned_cards = []\n",
        "    for card in card_list:\n",
        "        scanned_cards.append(card[\"card_id\"])\n",
        "        print(f\"Scanned card: {card['card_id']}\")\n",
        "    return scanned_cards"
      ],
      "metadata": {
        "id": "bqNSBUUDgC8v"
      },
      "execution_count": 2,
      "outputs": []
    },
    {
      "cell_type": "markdown",
      "source": [
        "Step 3: RFID Blocker"
      ],
      "metadata": {
        "id": "SNrQP167gGrF"
      }
    },
    {
      "cell_type": "code",
      "source": [
        "def rfid_blocker(card_list, blocked_cards):\n",
        "    print(\"RFID blocker active.\")\n",
        "    protected_cards = []\n",
        "    for card in card_list:\n",
        "        if card[\"card_id\"] in blocked_cards:\n",
        "            print(f\"Blocking card: {card['card_id']}\")\n",
        "        else:\n",
        "            protected_cards.append(card)\n",
        "    return protected_cards"
      ],
      "metadata": {
        "id": "aNKM5F_TgIdo"
      },
      "execution_count": 3,
      "outputs": []
    },
    {
      "cell_type": "markdown",
      "source": [
        "Step 4: Main Function to Simulate the Process"
      ],
      "metadata": {
        "id": "WG-FSOBBgMYa"
      }
    },
    {
      "cell_type": "code",
      "source": [
        "def main():\n",
        "    # List of blocked card IDs\n",
        "    blocked_cards = [\"1234-5678-9012-3456\", \"2345-6789-0123-4567\"]\n",
        "\n",
        "    # Simulate unauthorized scanning\n",
        "    scanned_cards = unauthorized_scanner(rfid_cards)\n",
        "\n",
        "    # Apply RFID blocker\n",
        "    protected_cards = rfid_blocker(rfid_cards, blocked_cards)\n",
        "\n",
        "    print(\"\\nCards protected from unauthorized scanning:\")\n",
        "    for card in protected_cards:\n",
        "        print(f\"Protected card: {card['card_id']} held by {card['holder']}\")\n",
        "\n",
        "if __name__ == \"__main__\":\n",
        "    main()"
      ],
      "metadata": {
        "colab": {
          "base_uri": "https://localhost:8080/"
        },
        "id": "9ij6PqPtgPwD",
        "outputId": "ee1d6aa8-2b3f-449f-89a9-9c08495d3913"
      },
      "execution_count": 4,
      "outputs": [
        {
          "output_type": "stream",
          "name": "stdout",
          "text": [
            "Unauthorized scanner active.\n",
            "Scanned card: 1234-5678-9012-3456\n",
            "Scanned card: 2345-6789-0123-4567\n",
            "Scanned card: 3456-7890-1234-5678\n",
            "RFID blocker active.\n",
            "Blocking card: 1234-5678-9012-3456\n",
            "Blocking card: 2345-6789-0123-4567\n",
            "\n",
            "Cards protected from unauthorized scanning:\n",
            "Protected card: 3456-7890-1234-5678 held by Charlie\n"
          ]
        }
      ]
    },
    {
      "cell_type": "code",
      "source": [
        "# Simulated RFID Cards\n",
        "rfid_cards = [\n",
        "    {\"card_id\": \"1234-5678-9012-3456\", \"holder\": \"Alice\"},\n",
        "    {\"card_id\": \"2345-6789-0123-4567\", \"holder\": \"Bob\"},\n",
        "    {\"card_id\": \"3456-7890-1234-5678\", \"holder\": \"Charlie\"}\n",
        "]\n",
        "\n",
        "# Unauthorized Scanner Function\n",
        "def unauthorized_scanner(card_list):\n",
        "    print(\"Unauthorized scanner active.\")\n",
        "    scanned_cards = []\n",
        "    for card in card_list:\n",
        "        scanned_cards.append(card[\"card_id\"])\n",
        "        print(f\"Scanned card: {card['card_id']}\")\n",
        "    return scanned_cards\n",
        "\n",
        "# RFID Blocker Function\n",
        "def rfid_blocker(card_list, blocked_cards):\n",
        "    print(\"RFID blocker active.\")\n",
        "    protected_cards = []\n",
        "    for card in card_list:\n",
        "        if card[\"card_id\"] in blocked_cards:\n",
        "            print(f\"Blocking card: {card['card_id']}\")\n",
        "        else:\n",
        "            protected_cards.append(card)\n",
        "    return protected_cards\n",
        "\n",
        "# Main Function\n",
        "def main():\n",
        "    # List of blocked card IDs\n",
        "    blocked_cards = [\"1234-5678-9012-3456\", \"2345-6789-0123-4567\"]\n",
        "\n",
        "    # Simulate unauthorized scanning\n",
        "    scanned_cards = unauthorized_scanner(rfid_cards)\n",
        "\n",
        "    # Apply RFID blocker\n",
        "    protected_cards = rfid_blocker(rfid_cards, blocked_cards)\n",
        "\n",
        "    print(\"\\nCards protected from unauthorized scanning:\")\n",
        "    for card in protected_cards:\n",
        "        print(f\"Protected card: {card['card_id']} held by {card['holder']}\")\n",
        "\n",
        "if __name__ == \"__main__\":\n",
        "    main()\n"
      ],
      "metadata": {
        "colab": {
          "base_uri": "https://localhost:8080/"
        },
        "id": "m7vIJpM-gV5k",
        "outputId": "6170c049-f2dc-4dcd-f70a-6ec2156c426a"
      },
      "execution_count": 5,
      "outputs": [
        {
          "output_type": "stream",
          "name": "stdout",
          "text": [
            "Unauthorized scanner active.\n",
            "Scanned card: 1234-5678-9012-3456\n",
            "Scanned card: 2345-6789-0123-4567\n",
            "Scanned card: 3456-7890-1234-5678\n",
            "RFID blocker active.\n",
            "Blocking card: 1234-5678-9012-3456\n",
            "Blocking card: 2345-6789-0123-4567\n",
            "\n",
            "Cards protected from unauthorized scanning:\n",
            "Protected card: 3456-7890-1234-5678 held by Charlie\n"
          ]
        }
      ]
    },
    {
      "cell_type": "markdown",
      "source": [
        "This code simulates the process of detecting and blocking unauthorized RFID scans. While it does not physically block RFID signals, it provides a conceptual approach that can be extended with actual hardware and RFID libraries for real-world applications."
      ],
      "metadata": {
        "id": "7Sg67ZNngdjX"
      }
    }
  ]
}